{
 "cells": [
  {
   "cell_type": "code",
   "execution_count": 99,
   "metadata": {},
   "outputs": [],
   "source": [
    "from qiskit import QuantumCircuit\n",
    "from math import pi\n",
    "from mitiq import Observable, PauliString\n",
    "from mitiq.interface.mitiq_qiskit import qiskit_utils\n",
    "from qiskit import execute, Aer\n",
    "import qiskit.providers.aer.noise as noise\n",
    "\n",
    "def get_circuit():\n",
    "    qc = QuantumCircuit(2)\n",
    "\n",
    "    # CDR works better if the circuit is not too short. So we increase its depth.\n",
    "    for i in range(5): \n",
    "        qc.h(0) # Clifford\n",
    "        qc.h(1) # Clifford\n",
    "        qc.rz(1.75, 0)\n",
    "        qc.rz(2.31, 1)\n",
    "        qc.cx(0,1) # Clifford\n",
    "        qc.rz(-1.17, 1)\n",
    "        qc.rz(3.23, 0)\n",
    "        qc.rx(pi/2, 0) # Clifford\n",
    "        qc.rx(pi/2, 1) # Clifford\n",
    "\n",
    "    # We need to measure the qubits\n",
    "    #qc.measure_all()\n",
    "    return qc"
   ]
  },
  {
   "cell_type": "code",
   "execution_count": 100,
   "metadata": {},
   "outputs": [
    {
     "name": "stdout",
     "output_type": "stream",
     "text": [
      "Z(q(0))*Z(q(1)) + (-1.75+0j)*X(q(0))\n"
     ]
    }
   ],
   "source": [
    "obsv = Observable(PauliString(\"ZZ\"), PauliString(\"X\", coeff=-1.75))\n",
    "print(obsv)"
   ]
  },
  {
   "cell_type": "code",
   "execution_count": 101,
   "metadata": {},
   "outputs": [],
   "source": [
    "# 2. Define an executor\n",
    "from mitiq.interface.mitiq_qiskit import qiskit_utils\n",
    "from qiskit import QuantumCircuit, execute, Aer\n",
    "import qiskit.providers.aer.noise as noise\n",
    "# Error probabilities\n",
    "prob_1 = 0.005  # 1-qubit gate\n",
    "prob_2 = 0.01   # 2-qubit gate\n",
    "\n",
    "# Depolarizing quantum errors\n",
    "error_1 = noise.depolarizing_error(prob_1, 1)\n",
    "error_2 = noise.depolarizing_error(prob_2, 2)\n",
    "\n",
    "# Add errors to noise model\n",
    "noise_model = noise.NoiseModel()\n",
    "noise_model.add_all_qubit_quantum_error(error_1, ['u1', 'u2', 'u3'])\n",
    "noise_model.add_all_qubit_quantum_error(error_2, ['cx'])\n",
    "\n",
    "def sim_noise(qc):\n",
    "    return qiskit_utils.execute_with_shots_and_noise(qc, obsv, noise_model, 4096)"
   ]
  },
  {
   "cell_type": "code",
   "execution_count": 102,
   "metadata": {},
   "outputs": [],
   "source": [
    "def sim(qc):\n",
    "    return qiskit_utils.execute_with_shots(qc, obsv, 4096)\n",
    "def sim2(qc):\n",
    "    return qiskit_utils.execute(qc, obsv.matrix())"
   ]
  },
  {
   "cell_type": "code",
   "execution_count": 103,
   "metadata": {},
   "outputs": [
    {
     "ename": "ValueError",
     "evalue": "Executor and observable are not compatible. Executors\n                returning expectation values as float must be used with\n                observable=None",
     "output_type": "error",
     "traceback": [
      "\u001b[0;31m---------------------------------------------------------------------------\u001b[0m",
      "\u001b[0;31mValueError\u001b[0m                                Traceback (most recent call last)",
      "Cell \u001b[0;32mIn[103], line 2\u001b[0m\n\u001b[1;32m      1\u001b[0m \u001b[39m#obs2 = Observable(None)\u001b[39;00m\n\u001b[0;32m----> 2\u001b[0m ideal_measurement \u001b[39m=\u001b[39m obs\u001b[39m.\u001b[39;49mexpectation(get_circuit, sim2)\u001b[39m.\u001b[39mreal\n\u001b[1;32m      3\u001b[0m \u001b[39mprint\u001b[39m(\u001b[39m\"\u001b[39m\u001b[39mideal_measurement = \u001b[39m\u001b[39m\"\u001b[39m,ideal_measurement)\n",
      "File \u001b[0;32m~/.local/lib/python3.10/site-packages/mitiq/observable/observable.py:119\u001b[0m, in \u001b[0;36mObservable.expectation\u001b[0;34m(self, circuit, execute)\u001b[0m\n\u001b[1;32m    114\u001b[0m \u001b[39mdef\u001b[39;00m \u001b[39mexpectation\u001b[39m(\n\u001b[1;32m    115\u001b[0m     \u001b[39mself\u001b[39m, circuit: QPROGRAM, execute: Callable[[QPROGRAM], QuantumResult]\n\u001b[1;32m    116\u001b[0m ) \u001b[39m-\u001b[39m\u001b[39m>\u001b[39m \u001b[39mcomplex\u001b[39m:\n\u001b[1;32m    117\u001b[0m     \u001b[39mfrom\u001b[39;00m \u001b[39mmitiq\u001b[39;00m\u001b[39m.\u001b[39;00m\u001b[39mexecutor\u001b[39;00m \u001b[39mimport\u001b[39;00m Executor  \u001b[39m# Avoid circular import.\u001b[39;00m\n\u001b[0;32m--> 119\u001b[0m     \u001b[39mreturn\u001b[39;00m Executor(execute)\u001b[39m.\u001b[39;49mevaluate(circuit, observable\u001b[39m=\u001b[39;49m\u001b[39mself\u001b[39;49m)[\u001b[39m0\u001b[39m]\n",
      "File \u001b[0;32m~/.local/lib/python3.10/site-packages/mitiq/executor/executor.py:170\u001b[0m, in \u001b[0;36mExecutor.evaluate\u001b[0;34m(self, circuits, observable, force_run_all, **kwargs)\u001b[0m\n\u001b[1;32m    164\u001b[0m     result_step \u001b[39m=\u001b[39m observable\u001b[39m.\u001b[39mngroups\n\u001b[1;32m    165\u001b[0m \u001b[39melif\u001b[39;00m (\n\u001b[1;32m    166\u001b[0m     observable \u001b[39mis\u001b[39;00m \u001b[39mnot\u001b[39;00m \u001b[39mNone\u001b[39;00m\n\u001b[1;32m    167\u001b[0m     \u001b[39mand\u001b[39;00m \u001b[39mself\u001b[39m\u001b[39m.\u001b[39m_executor_return_type \u001b[39mnot\u001b[39;00m \u001b[39min\u001b[39;00m MeasurementResultLike\n\u001b[1;32m    168\u001b[0m     \u001b[39mand\u001b[39;00m \u001b[39mself\u001b[39m\u001b[39m.\u001b[39m_executor_return_type \u001b[39mnot\u001b[39;00m \u001b[39min\u001b[39;00m DensityMatrixLike\n\u001b[1;32m    169\u001b[0m ):\n\u001b[0;32m--> 170\u001b[0m     \u001b[39mraise\u001b[39;00m \u001b[39mValueError\u001b[39;00m(\n\u001b[1;32m    171\u001b[0m \u001b[39m        \u001b[39m\u001b[39m\"\"\"Executor and observable are not compatible. Executors\u001b[39;00m\n\u001b[1;32m    172\u001b[0m \u001b[39m        returning expectation values as float must be used with\u001b[39;00m\n\u001b[1;32m    173\u001b[0m \u001b[39m        observable=None\"\"\"\u001b[39;00m\n\u001b[1;32m    174\u001b[0m     )\n\u001b[1;32m    175\u001b[0m \u001b[39melse\u001b[39;00m:\n\u001b[1;32m    176\u001b[0m     all_circuits \u001b[39m=\u001b[39m circuits\n",
      "\u001b[0;31mValueError\u001b[0m: Executor and observable are not compatible. Executors\n                returning expectation values as float must be used with\n                observable=None"
     ]
    }
   ],
   "source": [
    "#obs2 = Observable(None)\n",
    "ideal_measurement = obs.expectation(get_circuit, sim2).real\n",
    "print(\"ideal_measurement = \",ideal_measurement)"
   ]
  },
  {
   "cell_type": "code",
   "execution_count": null,
   "metadata": {},
   "outputs": [
    {
     "ename": "ValueError",
     "evalue": "Executor and observable are not compatible. Executors\n                returning expectation values as float must be used with\n                observable=None",
     "output_type": "error",
     "traceback": [
      "\u001b[0;31m---------------------------------------------------------------------------\u001b[0m",
      "\u001b[0;31mValueError\u001b[0m                                Traceback (most recent call last)",
      "Cell \u001b[0;32mIn[80], line 1\u001b[0m\n\u001b[0;32m----> 1\u001b[0m unmitigated_measurement \u001b[39m=\u001b[39m obs\u001b[39m.\u001b[39;49mexpectation(get_circuit(), sim_noise)\u001b[39m.\u001b[39mreal\n\u001b[1;32m      2\u001b[0m \u001b[39mprint\u001b[39m(\u001b[39m\"\u001b[39m\u001b[39munmitigated_measurement = \u001b[39m\u001b[39m\"\u001b[39m, unmitigated_measurement)\n",
      "File \u001b[0;32m~/.local/lib/python3.10/site-packages/mitiq/observable/observable.py:119\u001b[0m, in \u001b[0;36mObservable.expectation\u001b[0;34m(self, circuit, execute)\u001b[0m\n\u001b[1;32m    114\u001b[0m \u001b[39mdef\u001b[39;00m \u001b[39mexpectation\u001b[39m(\n\u001b[1;32m    115\u001b[0m     \u001b[39mself\u001b[39m, circuit: QPROGRAM, execute: Callable[[QPROGRAM], QuantumResult]\n\u001b[1;32m    116\u001b[0m ) \u001b[39m-\u001b[39m\u001b[39m>\u001b[39m \u001b[39mcomplex\u001b[39m:\n\u001b[1;32m    117\u001b[0m     \u001b[39mfrom\u001b[39;00m \u001b[39mmitiq\u001b[39;00m\u001b[39m.\u001b[39;00m\u001b[39mexecutor\u001b[39;00m \u001b[39mimport\u001b[39;00m Executor  \u001b[39m# Avoid circular import.\u001b[39;00m\n\u001b[0;32m--> 119\u001b[0m     \u001b[39mreturn\u001b[39;00m Executor(execute)\u001b[39m.\u001b[39;49mevaluate(circuit, observable\u001b[39m=\u001b[39;49m\u001b[39mself\u001b[39;49m)[\u001b[39m0\u001b[39m]\n",
      "File \u001b[0;32m~/.local/lib/python3.10/site-packages/mitiq/executor/executor.py:170\u001b[0m, in \u001b[0;36mExecutor.evaluate\u001b[0;34m(self, circuits, observable, force_run_all, **kwargs)\u001b[0m\n\u001b[1;32m    164\u001b[0m     result_step \u001b[39m=\u001b[39m observable\u001b[39m.\u001b[39mngroups\n\u001b[1;32m    165\u001b[0m \u001b[39melif\u001b[39;00m (\n\u001b[1;32m    166\u001b[0m     observable \u001b[39mis\u001b[39;00m \u001b[39mnot\u001b[39;00m \u001b[39mNone\u001b[39;00m\n\u001b[1;32m    167\u001b[0m     \u001b[39mand\u001b[39;00m \u001b[39mself\u001b[39m\u001b[39m.\u001b[39m_executor_return_type \u001b[39mnot\u001b[39;00m \u001b[39min\u001b[39;00m MeasurementResultLike\n\u001b[1;32m    168\u001b[0m     \u001b[39mand\u001b[39;00m \u001b[39mself\u001b[39m\u001b[39m.\u001b[39m_executor_return_type \u001b[39mnot\u001b[39;00m \u001b[39min\u001b[39;00m DensityMatrixLike\n\u001b[1;32m    169\u001b[0m ):\n\u001b[0;32m--> 170\u001b[0m     \u001b[39mraise\u001b[39;00m \u001b[39mValueError\u001b[39;00m(\n\u001b[1;32m    171\u001b[0m \u001b[39m        \u001b[39m\u001b[39m\"\"\"Executor and observable are not compatible. Executors\u001b[39;00m\n\u001b[1;32m    172\u001b[0m \u001b[39m        returning expectation values as float must be used with\u001b[39;00m\n\u001b[1;32m    173\u001b[0m \u001b[39m        observable=None\"\"\"\u001b[39;00m\n\u001b[1;32m    174\u001b[0m     )\n\u001b[1;32m    175\u001b[0m \u001b[39melse\u001b[39;00m:\n\u001b[1;32m    176\u001b[0m     all_circuits \u001b[39m=\u001b[39m circuits\n",
      "\u001b[0;31mValueError\u001b[0m: Executor and observable are not compatible. Executors\n                returning expectation values as float must be used with\n                observable=None"
     ]
    }
   ],
   "source": [
    "unmitigated_measurement = obs.expectation(get_circuit(), sim_noise).real\n",
    "print(\"unmitigated_measurement = \", unmitigated_measurement)"
   ]
  },
  {
   "cell_type": "code",
   "execution_count": 84,
   "metadata": {},
   "outputs": [
    {
     "ename": "ValueError",
     "evalue": "Executor and observable are not compatible. Executors\n                returning expectation values as float must be used with\n                observable=None",
     "output_type": "error",
     "traceback": [
      "\u001b[0;31m---------------------------------------------------------------------------\u001b[0m",
      "\u001b[0;31mValueError\u001b[0m                                Traceback (most recent call last)",
      "Cell \u001b[0;32mIn[84], line 3\u001b[0m\n\u001b[1;32m      1\u001b[0m \u001b[39mfrom\u001b[39;00m \u001b[39mmitiq\u001b[39;00m \u001b[39mimport\u001b[39;00m cdr\n\u001b[0;32m----> 3\u001b[0m mitigated_measurement \u001b[39m=\u001b[39m cdr\u001b[39m.\u001b[39;49mexecute_with_cdr(\n\u001b[1;32m      4\u001b[0m     get_circuit(),\n\u001b[1;32m      5\u001b[0m     sim_noise,\n\u001b[1;32m      6\u001b[0m     observable\u001b[39m=\u001b[39;49mobs,\n\u001b[1;32m      7\u001b[0m     simulator\u001b[39m=\u001b[39;49msim,\n\u001b[1;32m      8\u001b[0m     seed\u001b[39m=\u001b[39;49m\u001b[39m0\u001b[39;49m,\n\u001b[1;32m      9\u001b[0m )\u001b[39m.\u001b[39mreal\n\u001b[1;32m     10\u001b[0m \u001b[39mprint\u001b[39m(\u001b[39m\"\u001b[39m\u001b[39mmitigated_measurement = \u001b[39m\u001b[39m\"\u001b[39m, mitigated_measurement)\n",
      "File \u001b[0;32m~/.local/lib/python3.10/site-packages/mitiq/cdr/cdr.py:145\u001b[0m, in \u001b[0;36mexecute_with_cdr\u001b[0;34m(circuit, executor, observable, simulator, num_training_circuits, fraction_non_clifford, fit_function, num_fit_parameters, scale_factors, scale_noise, **kwargs)\u001b[0m\n\u001b[1;32m    142\u001b[0m to_run \u001b[39m=\u001b[39m [circuit \u001b[39mfor\u001b[39;00m circuits \u001b[39min\u001b[39;00m all_circuits \u001b[39mfor\u001b[39;00m circuit \u001b[39min\u001b[39;00m circuits]\n\u001b[1;32m    143\u001b[0m all_circuits_shape \u001b[39m=\u001b[39m (\u001b[39mlen\u001b[39m(all_circuits), \u001b[39mlen\u001b[39m(all_circuits[\u001b[39m0\u001b[39m]))\n\u001b[0;32m--> 145\u001b[0m results \u001b[39m=\u001b[39m executor\u001b[39m.\u001b[39;49mevaluate(to_run, observable)\n\u001b[1;32m    146\u001b[0m noisy_results \u001b[39m=\u001b[39m np\u001b[39m.\u001b[39marray(results)\u001b[39m.\u001b[39mreshape(all_circuits_shape)\n\u001b[1;32m    148\u001b[0m results \u001b[39m=\u001b[39m simulator\u001b[39m.\u001b[39mevaluate(training_circuits, observable)\n",
      "File \u001b[0;32m~/.local/lib/python3.10/site-packages/mitiq/executor/executor.py:170\u001b[0m, in \u001b[0;36mExecutor.evaluate\u001b[0;34m(self, circuits, observable, force_run_all, **kwargs)\u001b[0m\n\u001b[1;32m    164\u001b[0m     result_step \u001b[39m=\u001b[39m observable\u001b[39m.\u001b[39mngroups\n\u001b[1;32m    165\u001b[0m \u001b[39melif\u001b[39;00m (\n\u001b[1;32m    166\u001b[0m     observable \u001b[39mis\u001b[39;00m \u001b[39mnot\u001b[39;00m \u001b[39mNone\u001b[39;00m\n\u001b[1;32m    167\u001b[0m     \u001b[39mand\u001b[39;00m \u001b[39mself\u001b[39m\u001b[39m.\u001b[39m_executor_return_type \u001b[39mnot\u001b[39;00m \u001b[39min\u001b[39;00m MeasurementResultLike\n\u001b[1;32m    168\u001b[0m     \u001b[39mand\u001b[39;00m \u001b[39mself\u001b[39m\u001b[39m.\u001b[39m_executor_return_type \u001b[39mnot\u001b[39;00m \u001b[39min\u001b[39;00m DensityMatrixLike\n\u001b[1;32m    169\u001b[0m ):\n\u001b[0;32m--> 170\u001b[0m     \u001b[39mraise\u001b[39;00m \u001b[39mValueError\u001b[39;00m(\n\u001b[1;32m    171\u001b[0m \u001b[39m        \u001b[39m\u001b[39m\"\"\"Executor and observable are not compatible. Executors\u001b[39;00m\n\u001b[1;32m    172\u001b[0m \u001b[39m        returning expectation values as float must be used with\u001b[39;00m\n\u001b[1;32m    173\u001b[0m \u001b[39m        observable=None\"\"\"\u001b[39;00m\n\u001b[1;32m    174\u001b[0m     )\n\u001b[1;32m    175\u001b[0m \u001b[39melse\u001b[39;00m:\n\u001b[1;32m    176\u001b[0m     all_circuits \u001b[39m=\u001b[39m circuits\n",
      "\u001b[0;31mValueError\u001b[0m: Executor and observable are not compatible. Executors\n                returning expectation values as float must be used with\n                observable=None"
     ]
    }
   ],
   "source": [
    "from mitiq import cdr\n",
    "\n",
    "mitigated_measurement = cdr.execute_with_cdr(\n",
    "    get_circuit(),\n",
    "    sim_noise,\n",
    "    observable=obs,\n",
    "    simulator=sim,\n",
    "    seed=0,\n",
    ").real\n",
    "print(\"mitigated_measurement = \", mitigated_measurement)"
   ]
  },
  {
   "cell_type": "code",
   "execution_count": null,
   "metadata": {},
   "outputs": [
    {
     "ename": "NameError",
     "evalue": "name 'unmitigated_measurement' is not defined",
     "output_type": "error",
     "traceback": [
      "\u001b[0;31m---------------------------------------------------------------------------\u001b[0m",
      "\u001b[0;31mNameError\u001b[0m                                 Traceback (most recent call last)",
      "Cell \u001b[0;32mIn[9], line 1\u001b[0m\n\u001b[0;32m----> 1\u001b[0m error_unmitigated \u001b[39m=\u001b[39m \u001b[39mabs\u001b[39m(unmitigated_measurement\u001b[39m-\u001b[39mideal_measurement)\n\u001b[1;32m      2\u001b[0m error_mitigated \u001b[39m=\u001b[39m \u001b[39mabs\u001b[39m(mitigated_measurement\u001b[39m-\u001b[39mideal_measurement)\n\u001b[1;32m      4\u001b[0m \u001b[39mprint\u001b[39m(\u001b[39m\"\u001b[39m\u001b[39mError (unmitigated):\u001b[39m\u001b[39m\"\u001b[39m, error_unmitigated)\n",
      "\u001b[0;31mNameError\u001b[0m: name 'unmitigated_measurement' is not defined"
     ]
    }
   ],
   "source": [
    "error_unmitigated = abs(unmitigated_measurement-ideal_measurement)\n",
    "error_mitigated = abs(mitigated_measurement-ideal_measurement)\n",
    "\n",
    "print(\"Error (unmitigated):\", error_unmitigated)\n",
    "print(\"Error (mitigated with CDR):\", error_mitigated)\n",
    "\n",
    "print(\"Relative error (unmitigated):\", (error_unmitigated/ideal_measurement))\n",
    "print(\"Relative error (mitigated with CDR):\", error_mitigated/ideal_measurement)\n",
    "\n",
    "print(f\"Error reduction with CDR: {(error_unmitigated-error_mitigated)/error_unmitigated :.1%}.\")"
   ]
  },
  {
   "cell_type": "code",
   "execution_count": 110,
   "metadata": {},
   "outputs": [],
   "source": [
    "import numpy as np\n",
    "import matplotlib.pyplot as plt\n",
    "gammas = np.linspace(0, 2 * np.pi, 50)"
   ]
  },
  {
   "cell_type": "code",
   "execution_count": 111,
   "metadata": {},
   "outputs": [
    {
     "ename": "NameError",
     "evalue": "name 'noiseless_expectations' is not defined",
     "output_type": "error",
     "traceback": [
      "\u001b[0;31m---------------------------------------------------------------------------\u001b[0m",
      "\u001b[0;31mNameError\u001b[0m                                 Traceback (most recent call last)",
      "Cell \u001b[0;32mIn[111], line 2\u001b[0m\n\u001b[1;32m      1\u001b[0m plt\u001b[39m.\u001b[39mfigure(figsize\u001b[39m=\u001b[39m(\u001b[39m8\u001b[39m, \u001b[39m6\u001b[39m))\n\u001b[0;32m----> 2\u001b[0m plt\u001b[39m.\u001b[39mplot(gammas, noiseless_expectations, color\u001b[39m=\u001b[39m\u001b[39m\"\u001b[39m\u001b[39mg\u001b[39m\u001b[39m\"\u001b[39m, linewidth\u001b[39m=\u001b[39m\u001b[39m3\u001b[39m, label\u001b[39m=\u001b[39m\u001b[39m\"\u001b[39m\u001b[39mNoiseless\u001b[39m\u001b[39m\"\u001b[39m)\n\u001b[1;32m      3\u001b[0m plt\u001b[39m.\u001b[39mtitle(\u001b[39m\"\u001b[39m\u001b[39mEnergy landscape\u001b[39m\u001b[39m\"\u001b[39m, fontsize\u001b[39m=\u001b[39m\u001b[39m16\u001b[39m)\n\u001b[1;32m      4\u001b[0m plt\u001b[39m.\u001b[39mxlabel(\u001b[39mr\u001b[39m\u001b[39m\"\u001b[39m\u001b[39mAnsatz angle $\u001b[39m\u001b[39m\\\u001b[39m\u001b[39mgamma$\u001b[39m\u001b[39m\"\u001b[39m, fontsize\u001b[39m=\u001b[39m\u001b[39m16\u001b[39m)\n",
      "\u001b[0;31mNameError\u001b[0m: name 'noiseless_expectations' is not defined"
     ]
    },
    {
     "data": {
      "text/plain": [
       "<Figure size 800x600 with 0 Axes>"
      ]
     },
     "metadata": {},
     "output_type": "display_data"
    }
   ],
   "source": [
    "plt.figure(figsize=(8, 6))\n",
    "plt.plot(gammas, noiseless_expectations, color=\"g\", linewidth=3, label=\"Noiseless\")\n",
    "plt.title(\"Energy landscape\", fontsize=16)\n",
    "plt.xlabel(r\"Ansatz angle $\\gamma$\", fontsize=16)\n",
    "plt.ylabel(r\"$\\langle H \\rangle(\\gamma)$\", fontsize=16)\n",
    "plt.legend(fontsize=14)\n",
    "plt.ylim(-1, 1);\n",
    "plt.show()"
   ]
  },
  {
   "cell_type": "code",
   "execution_count": null,
   "metadata": {},
   "outputs": [],
   "source": []
  }
 ],
 "metadata": {
  "kernelspec": {
   "display_name": "base",
   "language": "python",
   "name": "python3"
  },
  "language_info": {
   "codemirror_mode": {
    "name": "ipython",
    "version": 3
   },
   "file_extension": ".py",
   "mimetype": "text/x-python",
   "name": "python",
   "nbconvert_exporter": "python",
   "pygments_lexer": "ipython3",
   "version": "3.10.10"
  },
  "orig_nbformat": 4
 },
 "nbformat": 4,
 "nbformat_minor": 2
}
